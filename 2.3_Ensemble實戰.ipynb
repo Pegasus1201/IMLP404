{
 "cells": [
  {
   "cell_type": "markdown",
   "id": "3129ab3d",
   "metadata": {},
   "source": [
    "# Ensemble/Voting Classification in Python with Scikit-Learn\n",
    "ref：https://www.kaggle.com/c/titanic/submit"
   ]
  },
  {
   "cell_type": "code",
   "execution_count": 662,
   "id": "c6b020b8",
   "metadata": {},
   "outputs": [],
   "source": [
    "import pandas as pds\n",
    "import numpy as np\n",
    "import warnings\n",
    "\n",
    "from sklearn.preprocessing import LabelEncoder, StandardScaler\n",
    "from sklearn.metrics import accuracy_score, f1_score, log_loss\n",
    "from sklearn.model_selection import train_test_split, KFold, cross_val_score\n",
    "\n",
    "from sklearn.svm import SVC\n",
    "from sklearn.linear_model import LogisticRegression\n",
    "from sklearn.tree import DecisionTreeClassifier\n",
    "from sklearn.ensemble import VotingClassifier\n",
    "from sklearn.ensemble import BaggingClassifier\n",
    "from sklearn.ensemble import AdaBoostClassifier, RandomForestClassifier, ExtraTreesClassifier"
   ]
  },
  {
   "cell_type": "code",
   "execution_count": 663,
   "id": "478777fc-05ea-4568-8cb8-2f3c49ef7016",
   "metadata": {},
   "outputs": [],
   "source": [
    "warnings.filterwarnings('ignore')"
   ]
  },
  {
   "cell_type": "code",
   "execution_count": null,
   "id": "9a9949f1-78be-4220-8cd2-8a59bc6d8d0b",
   "metadata": {},
   "outputs": [],
   "source": []
  },
  {
   "cell_type": "code",
   "execution_count": 664,
   "id": "45affd02-c05e-41bb-82fb-cf6136bc19fc",
   "metadata": {},
   "outputs": [],
   "source": [
    "def get_nulls(training, testing):\n",
    "    print(\"Training Data:\")\n",
    "    print(pds.isnull(training).sum())\n",
    "    print(\"training data length:\", len(training))    \n",
    "    print(\"Testing Data:\")\n",
    "    print(pds.isnull(testing).sum())\n",
    "    print(\"testing data length:\", len(testing))        "
   ]
  },
  {
   "cell_type": "code",
   "execution_count": 665,
   "id": "7163b994",
   "metadata": {
    "scrolled": true
   },
   "outputs": [
    {
     "name": "stdout",
     "output_type": "stream",
     "text": [
      "Training Data:\n",
      "PassengerId      0\n",
      "Survived         0\n",
      "Pclass           0\n",
      "Name             0\n",
      "Sex              0\n",
      "Age            177\n",
      "SibSp            0\n",
      "Parch            0\n",
      "Ticket           0\n",
      "Fare             0\n",
      "Cabin          687\n",
      "Embarked         2\n",
      "dtype: int64\n",
      "training data length: 891\n",
      "Testing Data:\n",
      "PassengerId      0\n",
      "Pclass           0\n",
      "Name             0\n",
      "Sex              0\n",
      "Age             86\n",
      "SibSp            0\n",
      "Parch            0\n",
      "Ticket           0\n",
      "Fare             1\n",
      "Cabin          327\n",
      "Embarked         0\n",
      "dtype: int64\n",
      "testing data length: 418\n"
     ]
    }
   ],
   "source": [
    "training_data = pds.read_csv(\"data/train.csv\")\n",
    "testing_data = pds.read_csv(\"data/test.csv\")\n",
    "get_nulls(training_data, testing_data)"
   ]
  },
  {
   "cell_type": "code",
   "execution_count": 666,
   "id": "bd8bc353-6ea5-420c-9489-f4d29e9ed6df",
   "metadata": {},
   "outputs": [
    {
     "data": {
      "text/plain": [
       "Index(['PassengerId', 'Survived', 'Pclass', 'Name', 'Sex', 'Age', 'SibSp',\n",
       "       'Parch', 'Ticket', 'Fare', 'Cabin', 'Embarked'],\n",
       "      dtype='object')"
      ]
     },
     "execution_count": 666,
     "metadata": {},
     "output_type": "execute_result"
    }
   ],
   "source": [
    "# 重組資料集（將 trainging, testing 資料)\n",
    "pool_data = pds.concat([training_data, testing_data], axis  = 0)\n",
    "pool_data.columns"
   ]
  },
  {
   "cell_type": "code",
   "execution_count": 667,
   "id": "ffd6109f",
   "metadata": {},
   "outputs": [
    {
     "name": "stdout",
     "output_type": "stream",
     "text": [
      "Training Data:\n",
      "PassengerId    0\n",
      "Survived       0\n",
      "Pclass         0\n",
      "Sex            0\n",
      "Age            0\n",
      "SibSp          0\n",
      "Parch          0\n",
      "Fare           0\n",
      "Embarked       0\n",
      "dtype: int64\n",
      "training data length: 891\n",
      "Testing Data:\n",
      "PassengerId    0\n",
      "Pclass         0\n",
      "Sex            0\n",
      "Age            0\n",
      "SibSp          0\n",
      "Parch          0\n",
      "Fare           0\n",
      "Embarked       0\n",
      "dtype: int64\n",
      "testing data length: 418\n"
     ]
    }
   ],
   "source": [
    "# Drop the cabin column, as there are too many missing values\n",
    "# Drop the ticket numbers too, as there are too many categories\n",
    "# Drop names as they won't really help predict survivors\n",
    "\n",
    "training_data.drop(labels = [\"Cabin\", \"Name\", \"Ticket\"], axis = 1, inplace= True)\n",
    "testing_data.drop(labels = [\"Cabin\", \"Name\", \"Ticket\"], axis = 1, inplace= True)\n",
    "\n",
    "# Taking the mean/average value would be impacted by the skew\n",
    "# so we should use the median value to impute missing values\n",
    "\n",
    "training_data[\"Age\"].fillna(training_data[\"Age\"].median(),inplace=True)\n",
    "training_data[\"Embarked\"].fillna(training_data[\"Embarked\"].mode()[0], inplace=True)\n",
    "testing_data[\"Age\"].fillna(testing_data[\"Age\"].median(),inplace=True)\n",
    "testing_data[\"Embarked\"].fillna(testing_data[\"Embarked\"].mode()[0], inplace=True)\n",
    "testing_data[\"Fare\"].fillna(testing_data[\"Fare\"].median(), inplace=True)\n",
    "\n",
    "get_nulls(training_data, testing_data)"
   ]
  },
  {
   "cell_type": "code",
   "execution_count": 668,
   "id": "19e4f59b",
   "metadata": {},
   "outputs": [],
   "source": [
    "# Fit the encoder on the data (Feature: Sex)\n",
    "encoder_1 = LabelEncoder()\n",
    "encoder_1.fit(training_data[\"Sex\"])\n",
    "\n",
    "# Transform and replace training data\n",
    "training_sex_encoded = encoder_1.transform(training_data[\"Sex\"])\n",
    "training_data[\"Sex_enc\"] = training_sex_encoded\n",
    "\n",
    "encoder_1.fit(testing_data[\"Sex\"])\n",
    "test_sex_encoded = encoder_1.transform(testing_data[\"Sex\"])\n",
    "testing_data[\"Sex_enc\"] = test_sex_encoded\n",
    "\n",
    "# Fit the encoder on the data (Feature: Embarked)\n",
    "encoder_2 = LabelEncoder()\n",
    "\n",
    "encoder_2.fit(training_data[\"Embarked\"])\n",
    "training_embarked_encoded = encoder_2.transform(training_data[\"Embarked\"])\n",
    "training_data[\"Embarked_enc\"] = training_embarked_encoded\n",
    "\n",
    "encoder_2.fit(testing_data[\"Embarked\"])\n",
    "test_embarked_encoded = encoder_2.transform(testing_data[\"Embarked\"])\n",
    "testing_data[\"Embarked_enc\"] = test_embarked_encoded\n",
    "\n",
    "#Any value we want to reshape needs be turned into array first\n",
    "ages_train = np.array(training_data[\"Age\"]).reshape(-1, 1)\n",
    "ages_test = np.array(testing_data[\"Age\"]).reshape(-1, 1)\n",
    "\n",
    "# Scaler takes arrays\n",
    "scaler = StandardScaler()\n",
    "training_data[\"Age_Scalered\"] = scaler.fit_transform(ages_train)\n",
    "testing_data[\"Age_Scalered\"] = scaler.fit_transform(ages_test)"
   ]
  },
  {
   "cell_type": "code",
   "execution_count": 669,
   "id": "9ef48ef2-4d5b-4917-b4a7-dead1bd57a79",
   "metadata": {},
   "outputs": [],
   "source": [
    "training_data.drop(labels = [\"Embarked\", \"Sex\", \"Age\"], axis = 1, inplace = True)\n",
    "testing_data.drop(labels = [\"Embarked\", \"Sex\", \"Age\"], axis = 1, inplace = True)\n",
    "# print(training_data.columns)"
   ]
  },
  {
   "cell_type": "code",
   "execution_count": null,
   "id": "c525a1db-8a6d-4f92-99e6-1212ec70c26e",
   "metadata": {},
   "outputs": [],
   "source": []
  },
  {
   "cell_type": "code",
   "execution_count": 670,
   "id": "65bd0090",
   "metadata": {},
   "outputs": [
    {
     "name": "stdout",
     "output_type": "stream",
     "text": [
      "   Pclass  SibSp  Parch     Fare  Sex_enc  Embarked_enc  Age_Scalered\n",
      "0       3      1      0   7.2500        1             2     -0.565736\n",
      "1       1      1      0  71.2833        0             0      0.663861\n",
      "2       3      0      0   7.9250        0             2     -0.258337\n",
      "3       1      1      0  53.1000        0             2      0.433312\n",
      "4       3      0      0   8.0500        1             2      0.433312\n",
      "0    0\n",
      "1    1\n",
      "2    1\n",
      "3    1\n",
      "4    0\n",
      "Name: Survived, dtype: int64\n"
     ]
    }
   ],
   "source": [
    "# Now to select our training/testing data\n",
    "X_features = training_data.drop(labels=['PassengerId', 'Survived'], axis=1)\n",
    "y_labels = training_data['Survived']\n",
    "\n",
    "print(X_features.head(5))\n",
    "print(y_labels.head(5))\n",
    "\n",
    "# Make the train/test data from validation\n",
    "\n",
    "X_train, X_val, y_train, y_val = train_test_split(X_features, y_labels, test_size=0.1, random_state=12)"
   ]
  },
  {
   "cell_type": "markdown",
   "id": "5652bc34",
   "metadata": {},
   "source": [
    "## Simple Averaging Approach"
   ]
  },
  {
   "cell_type": "code",
   "execution_count": 671,
   "id": "bd5bd583-2ef9-409e-a834-75de5bf14ad1",
   "metadata": {},
   "outputs": [
    {
     "name": "stdout",
     "output_type": "stream",
     "text": [
      "Sample Counts for Training Data: 801\n",
      "Sample Counts for Validation Data: 90\n"
     ]
    }
   ],
   "source": [
    "print(\"Sample Counts for Training Data:\", len(X_train))\n",
    "print(\"Sample Counts for Validation Data:\", len(X_val))"
   ]
  },
  {
   "cell_type": "code",
   "execution_count": 672,
   "id": "9cd452cc",
   "metadata": {},
   "outputs": [],
   "source": [
    "LogReg_clf = LogisticRegression()\n",
    "DeTree_clf = DecisionTreeClassifier()\n",
    "SVC_clf = SVC()\n",
    "\n",
    "LogReg_clf.fit(X_train, y_train)\n",
    "DeTree_clf.fit(X_train, y_train)\n",
    "SVC_clf.fit(X_train, y_train)\n",
    "\n",
    "LogReg_pred = LogReg_clf.predict(X_val)\n",
    "DeTree_pred = DeTree_clf.predict(X_val)\n",
    "SVC_pred = SVC_clf.predict(X_val)\n",
    "prediced_Y_traing  = pds.DataFrame(zip(LogReg_pred, DeTree_pred, SVC_pred), columns=['LogReg_pred','DeTree_pred','SVC_pred'])\n",
    "prediced_Y_traing[\"averaged_preds\"] = prediced_Y_traing.mode(axis = 1) # (LogReg_pred + DeTree_pred + SVC_pred) // 3\n",
    "averaged_preds = prediced_Y_traing[\"averaged_preds\"].array"
   ]
  },
  {
   "cell_type": "code",
   "execution_count": 673,
   "id": "5fde82f5-2ba8-4fc0-8fb7-10492edf2fbd",
   "metadata": {},
   "outputs": [
    {
     "name": "stdout",
     "output_type": "stream",
     "text": [
      "0.788889\n"
     ]
    }
   ],
   "source": [
    "AccScore = round(accuracy_score(y_val, averaged_preds), 6)\n",
    "print(AccScore)"
   ]
  },
  {
   "cell_type": "markdown",
   "id": "82d32100",
   "metadata": {},
   "source": [
    "## Bagging Classification Example"
   ]
  },
  {
   "cell_type": "code",
   "execution_count": 674,
   "id": "62ac47a5",
   "metadata": {},
   "outputs": [],
   "source": [
    "def bagging_ensemble(model):\n",
    "    k_folds = KFold(n_splits= 20, random_state=12,shuffle=True)\n",
    "    results = cross_val_score(model, X_train, y_train, cv=k_folds)\n",
    "    print(results.mean())"
   ]
  },
  {
   "cell_type": "markdown",
   "id": "09094ea7",
   "metadata": {},
   "source": [
    "## Boosting Classification Example"
   ]
  },
  {
   "cell_type": "code",
   "execution_count": 675,
   "id": "0a6d48bb",
   "metadata": {},
   "outputs": [
    {
     "name": "stdout",
     "output_type": "stream",
     "text": [
      "Results for 10 estimators:\n",
      "0.805183\n",
      "Results for 20 estimators:\n",
      "0.805213\n",
      "Results for 30 estimators:\n",
      "0.810183\n",
      "Results for 40 estimators:\n",
      "0.817652\n",
      "Results for 50 estimators:\n",
      "0.816402\n",
      "Results for 60 estimators:\n",
      "0.816433\n",
      "Results for 70 estimators:\n",
      "0.820152\n",
      "Results for 80 estimators:\n",
      "0.815152\n",
      "Results for 90 estimators:\n",
      "0.811402\n",
      "Results for 100 estimators:\n",
      "0.810152\n"
     ]
    }
   ],
   "source": [
    "k_folds = KFold(n_splits=20, random_state=12, shuffle=True)\n",
    "num_estimators = [x for x in range(10, 110, 10)]\n",
    "for i in num_estimators:\n",
    "    ada_boost = AdaBoostClassifier(n_estimators = i, random_state = 12)\n",
    "    results = cross_val_score(ada_boost, X_train, y_train ,cv = k_folds)\n",
    "    print(\"Results for {} estimators:\".format(i))\n",
    "    print(round(results.mean(), 6))"
   ]
  },
  {
   "cell_type": "markdown",
   "id": "8290c946",
   "metadata": {},
   "source": [
    "## voting\\Stacking Classification Example"
   ]
  },
  {
   "cell_type": "code",
   "execution_count": 676,
   "id": "161a4960",
   "metadata": {},
   "outputs": [
    {
     "name": "stdout",
     "output_type": "stream",
     "text": [
      "Accuracy Score for Voting Rule = hard is:  0.788889\n",
      "Log Loss for Voting Rule = hard is:  7.609216\n",
      "F1 Score for Voting Rule = hard is  0.688525\n"
     ]
    }
   ],
   "source": [
    "voting_clf = VotingClassifier(estimators=[('SVC', SVC_clf), ('DeTree', DeTree_clf), ('LogReg', LogReg_clf)], voting = 'hard', flatten_transform = True)\n",
    "voting_clf.fit(X_train, y_train)\n",
    "preds = voting_clf.predict(X_val)      \n",
    "AccScore = round(accuracy_score(y_val, preds), 6)\n",
    "l_loss = round(log_loss(y_val, preds), 6)\n",
    "f1 = round(f1_score(y_val, preds), 6)\n",
    "print(\"Accuracy Score for Voting Rule = hard is: \", AccScore)\n",
    "print(\"Log Loss for Voting Rule = hard is: \",  l_loss)\n",
    "print(\"F1 Score for Voting Rule = hard is \", f1)\n",
    "\n",
    "# VotingRule = ['hard', 'soft']\n",
    "# for myVote in VotingRule:\n",
    "#     voting_clf = VotingClassifier(estimators=[('SVC', SVC_clf), ('DeTree', DeTree_clf), ('LogReg', LogReg_clf)], voting = myVote, flatten_transform = True)\n",
    "#     voting_clf.fit(X_train, y_train)\n",
    "#     # if myVote == 'hard':\n",
    "#     preds = voting_clf.predict(X_val)\n",
    "#     # else:\n",
    "#     #    preds = voting_clf.predict_proba(X_val)        \n",
    "#     AccScore = round(accuracy_score(y_val, preds), 6)\n",
    "#     l_loss = round(log_loss(y_val, preds), 6)\n",
    "#     f1 = round(f1_score(y_val, preds), 6)\n",
    "#     print(\"Voting Rule = \" + myVote + \" Accuracy Score is: \", AccScore)\n",
    "#     print(\"Voting Rule = \" + myVote + \" Log Loss is: \",  l_loss)\n",
    "#     print(\"Voting Rule = \" + myVote + \" F1 Score is: \", f1)"
   ]
  },
  {
   "cell_type": "code",
   "execution_count": 677,
   "id": "aedc530e",
   "metadata": {},
   "outputs": [],
   "source": [
    "test_df = testing_data.drop(labels = [\"PassengerId\"], axis = 1)"
   ]
  },
  {
   "cell_type": "code",
   "execution_count": 678,
   "id": "f21b5a0b-0a1c-4ca6-8ce3-0ec477e2469c",
   "metadata": {},
   "outputs": [],
   "source": [
    "submission_df = pds.DataFrame(columns = [\"PassengerId\", \"Survived\"])\n",
    "submission_df.PassengerId = testing_data.PassengerId"
   ]
  },
  {
   "cell_type": "code",
   "execution_count": 679,
   "id": "2ca01cb2-192e-488b-a9dc-dfe7f5c1fddd",
   "metadata": {},
   "outputs": [],
   "source": [
    "submission_df.Survived = voting_clf.predict(test_df)\n",
    "submission_df.to_csv(\"Submission_voting.csv\", header = True, index = False)"
   ]
  },
  {
   "cell_type": "code",
   "execution_count": 680,
   "id": "6170f568-65bb-491e-a3fb-656603dc8f0e",
   "metadata": {},
   "outputs": [],
   "source": [
    "submission_df.Survived = LogReg_clf.predict(test_df).astype(int)\n",
    "submission_df.to_csv(\"Submission_LogReg.csv\", header = True, index = False)"
   ]
  },
  {
   "cell_type": "markdown",
   "id": "fa7430a9-2f0d-4cb1-b3c7-2bca85413708",
   "metadata": {},
   "source": [
    "# Extra: 整批資料重新處理"
   ]
  },
  {
   "cell_type": "code",
   "execution_count": 681,
   "id": "63d64d0b-c7c5-4e63-a551-ddccd30c412b",
   "metadata": {},
   "outputs": [],
   "source": [
    "# 針對 Age 的缺失值做更細微的分析後再補植\n",
    "# 1. 分析姓名中的稱謂欄位\n",
    "# 2. 有無配偶兄弟同行衍生 Y(1)/N(0) 欄位\n",
    "# 3. 有無父母小孩同行衍生 Y(1)/N(0) 欄位\n",
    "# 4. 將艙等、Mr/Mrs/Miss、有無配偶兄弟、有無父母小孩同行等四構面統計平均年齡，以此平均年齡補值\n",
    "\n",
    "C_Title = []\n",
    "CustName = pool_data.Name.to_list()\n",
    "\n",
    "for C_Name in CustName:\n",
    "    myPos01 = C_Name.index(',')\n",
    "    myPos02 = C_Name.index('.')\n",
    "    TitleCode = C_Name[myPos01 + 1: myPos02].strip()\n",
    "    C_Title.append(TitleCode)\n",
    "\n",
    "pool_data['TitleCode'] = C_Title"
   ]
  },
  {
   "cell_type": "code",
   "execution_count": 682,
   "id": "791488a0-77e3-4fdc-ada4-fb71cd210a30",
   "metadata": {},
   "outputs": [],
   "source": [
    "TitleStat = pool_data[pool_data['Survived'].notnull()].groupby('TitleCode')['Survived'].agg(['sum','count'])\n",
    "TitleStat[\"Survival_ratio\"] = TitleStat[\"sum\"] / TitleStat[\"count\"]\n",
    "Overall_Survival_ratio = round(training_data['Survived'].sum() / len(training_data), 6)\n",
    "\n",
    "# 生存組稱謂（存活率大於整體平均者）\n",
    "TitleStat_S = TitleStat[TitleStat['Survival_ratio'] >= Overall_Survival_ratio].index.to_list()\n",
    "S_Group = []\n",
    "for TitleCode in C_Title:\n",
    "    if TitleCode in TitleStat_S:\n",
    "       S_Group.append(1)\n",
    "    else:\n",
    "       S_Group.append(0)\n",
    "pool_data['Survival_Group'] = S_Group"
   ]
  },
  {
   "cell_type": "code",
   "execution_count": 683,
   "id": "ce8d9fc0-6259-4a03-a5da-a75cb591d0b4",
   "metadata": {},
   "outputs": [],
   "source": [
    "pool_data['IsSibSp'] = np.where(pool_data[\"SibSp\"] > 0, 1, 0)\n",
    "pool_data['IsParch'] = np.where(pool_data[\"Parch\"] > 0, 1, 0)\n",
    "pool_data['FourAttrMerge'] = pool_data['Pclass'].astype(str) + pool_data['Survival_Group'].astype(str) + pool_data['IsSibSp'].astype(str) + pool_data['Parch'].astype(str)\n",
    "AvgAgebyFourAttrMerge = pds.DataFrame(pool_data[pool_data[\"Survived\"].notnull()].groupby([\"FourAttrMerge\"])[\"Age\"].mean().round(0))"
   ]
  },
  {
   "cell_type": "code",
   "execution_count": 684,
   "id": "734718ba-637d-4d43-8454-4c3adcfdc3eb",
   "metadata": {},
   "outputs": [],
   "source": [
    "AvgAgebyFourAttrMergeDict = pds.Series(AvgAgebyFourAttrMerge.Age, index = AvgAgebyFourAttrMerge.index).to_dict()\n",
    "overall_age_median = pool_data[\"Age\"].median()"
   ]
  },
  {
   "cell_type": "code",
   "execution_count": 685,
   "id": "8c753c00-9151-45e0-ae91-ad8f139270a9",
   "metadata": {},
   "outputs": [],
   "source": [
    "def impute_age(cols):\n",
    "    Age = cols[0]\n",
    "    FourAttrMerge = cols[1]\n",
    "    if pds.isnull(Age):\n",
    "       if FourAttrMerge in AvgAgebyFourAttrMergeDict.keys():\n",
    "          return AvgAgebyFourAttrMergeDict.get(FourAttrMerge)\n",
    "       else:\n",
    "          return overall_age_median\n",
    "    else:\n",
    "        return Age"
   ]
  },
  {
   "cell_type": "code",
   "execution_count": 686,
   "id": "575f8bb5-3999-48a6-9063-4175c6c0d6f7",
   "metadata": {},
   "outputs": [],
   "source": [
    "pool_data['Age'] = pool_data[['Age', 'FourAttrMerge']].apply(impute_age, axis=1)"
   ]
  },
  {
   "cell_type": "code",
   "execution_count": 687,
   "id": "fc58f96a-d575-4322-b0ad-fc482469a16b",
   "metadata": {},
   "outputs": [
    {
     "name": "stdout",
     "output_type": "stream",
     "text": [
      "PassengerId          0\n",
      "Survived           418\n",
      "Pclass               0\n",
      "Name                 0\n",
      "Sex                  0\n",
      "Age                  0\n",
      "SibSp                0\n",
      "Parch                0\n",
      "Ticket               0\n",
      "Fare                 1\n",
      "Cabin             1014\n",
      "Embarked             2\n",
      "TitleCode            0\n",
      "Survival_Group       0\n",
      "IsSibSp              0\n",
      "IsParch              0\n",
      "FourAttrMerge        0\n",
      "dtype: int64\n"
     ]
    }
   ],
   "source": [
    "print(pds.isnull(pool_data).sum())"
   ]
  },
  {
   "cell_type": "code",
   "execution_count": 688,
   "id": "5c536747-8e79-4859-a1ed-afcba3d28168",
   "metadata": {},
   "outputs": [],
   "source": [
    "pool_data.drop(labels = [\"Cabin\", \"Name\", \"Ticket\", \"Survival_Group\", \"IsSibSp\", \"IsParch\", \"FourAttrMerge\", \"TitleCode\"], axis = 1, inplace= True)\n",
    "pool_data[\"Embarked\"].fillna(pool_data[\"Embarked\"].mode()[0], inplace=True)\n",
    "pool_data[\"Fare\"].fillna(pool_data[\"Fare\"].median(), inplace=True)"
   ]
  },
  {
   "cell_type": "code",
   "execution_count": 689,
   "id": "0d31886c-4cf7-4fde-aba8-9e36e653f44e",
   "metadata": {},
   "outputs": [
    {
     "name": "stdout",
     "output_type": "stream",
     "text": [
      "PassengerId      0\n",
      "Survived       418\n",
      "Pclass           0\n",
      "Sex              0\n",
      "Age              0\n",
      "SibSp            0\n",
      "Parch            0\n",
      "Fare             0\n",
      "Embarked         0\n",
      "dtype: int64\n"
     ]
    }
   ],
   "source": [
    "print(pds.isnull(pool_data).sum())"
   ]
  },
  {
   "cell_type": "code",
   "execution_count": 690,
   "id": "c226179d-69a7-4dc7-8372-670a4e3856e5",
   "metadata": {},
   "outputs": [],
   "source": [
    "# Embarked_Dummies, Sex\n",
    "Embarked_Dummy = pds.get_dummies(pool_data['Embarked'], prefix='Embarked', drop_first = True, dtype = int)\n",
    "Sex_Dummy = pds.get_dummies(pool_data['Sex'], prefix='Sex', drop_first = True, dtype = int)\n",
    "# Embarked_Dummies\n",
    "pool_data_Final = pds.concat([pool_data, Embarked_Dummy, Sex_Dummy], axis = 1)"
   ]
  },
  {
   "cell_type": "code",
   "execution_count": 691,
   "id": "d2bb8ced-649f-4fce-a3dc-43373e6327d3",
   "metadata": {},
   "outputs": [],
   "source": [
    "# Scaler takes arrays\n",
    "ages_pool = np.array(pool_data_Final[\"Age\"]).reshape(-1, 1)\n",
    "scaler = StandardScaler()\n",
    "pool_data_Final[\"Age_Scalered\"] = scaler.fit_transform(ages_pool)"
   ]
  },
  {
   "cell_type": "code",
   "execution_count": 692,
   "id": "618f5674-46fe-4239-bd3d-c322a93f55ed",
   "metadata": {},
   "outputs": [
    {
     "data": {
      "text/plain": [
       "Index(['PassengerId', 'Survived', 'Pclass', 'Sex', 'Age', 'SibSp', 'Parch',\n",
       "       'Fare', 'Embarked', 'Embarked_Q', 'Embarked_S', 'Sex_male',\n",
       "       'Age_Scalered'],\n",
       "      dtype='object')"
      ]
     },
     "execution_count": 692,
     "metadata": {},
     "output_type": "execute_result"
    }
   ],
   "source": [
    "pool_data_Final.columns"
   ]
  },
  {
   "cell_type": "code",
   "execution_count": 693,
   "id": "099aafe8-6f11-4951-a3c3-7b40ed8c11c6",
   "metadata": {},
   "outputs": [
    {
     "data": {
      "text/plain": [
       "Index(['PassengerId', 'Pclass', 'SibSp', 'Parch', 'Fare', 'Embarked_Q',\n",
       "       'Embarked_S', 'Sex_male', 'Age_Scalered'],\n",
       "      dtype='object')"
      ]
     },
     "execution_count": 693,
     "metadata": {},
     "output_type": "execute_result"
    }
   ],
   "source": [
    "pool_data_Final.drop(labels = [\"Embarked\", \"Age\", \"Sex\"], axis = 1, inplace = True)\n",
    "training_data_x2 = pool_data_Final[pool_data[\"Survived\"].notnull()]\n",
    "testing_data_x2 = pool_data_Final[pool_data[\"Survived\"].isnull()]\n",
    "testing_data_x2.drop(labels = [\"Survived\"], axis = 1, inplace= True)\n",
    "testing_data_x2.columns"
   ]
  },
  {
   "cell_type": "code",
   "execution_count": 694,
   "id": "9b98acc2-d336-47b3-bf6d-4f876766f90f",
   "metadata": {},
   "outputs": [
    {
     "name": "stdout",
     "output_type": "stream",
     "text": [
      "   Pclass  SibSp  Parch     Fare  Embarked_Q  Embarked_S  Sex_male  \\\n",
      "0       3      1      0   7.2500           0           1         1   \n",
      "1       1      1      0  71.2833           0           0         0   \n",
      "2       3      0      0   7.9250           0           1         0   \n",
      "3       1      1      0  53.1000           0           1         0   \n",
      "4       3      0      0   8.0500           0           1         1   \n",
      "\n",
      "   Age_Scalered  \n",
      "0     -0.570395  \n",
      "1      0.627635  \n",
      "2     -0.270888  \n",
      "3      0.403004  \n",
      "4      0.403004  \n",
      "0    0.0\n",
      "1    1.0\n",
      "2    1.0\n",
      "3    1.0\n",
      "4    0.0\n",
      "Name: Survived, dtype: float64\n"
     ]
    }
   ],
   "source": [
    "X_features = training_data_x2.drop(labels=['PassengerId', 'Survived'], axis=1)\n",
    "y_labels = training_data_x2['Survived']\n",
    "\n",
    "print(X_features.head(5))\n",
    "print(y_labels.head(5))\n",
    "\n",
    "# Make the train/test data from validation\n",
    "\n",
    "X_train_02, X_val_02, y_train_02, y_val_02 = train_test_split(X_features, y_labels, test_size=0.1, random_state=12)"
   ]
  },
  {
   "cell_type": "code",
   "execution_count": 699,
   "id": "fd6eea98-7328-4cf7-964f-85c7ffc95760",
   "metadata": {},
   "outputs": [],
   "source": [
    "LogReg_clf_pool = LogisticRegression()\n",
    "DeTree_clf_pool = DecisionTreeClassifier()\n",
    "SVC_clf_pool = SVC()\n",
    "\n",
    "LogReg_clf_pool.fit(X_train_02, y_train_02)\n",
    "DeTree_clf_pool.fit(X_train_02, y_train_02)\n",
    "SVC_clf_pool.fit(X_train_02, y_train_02)\n",
    "\n",
    "LogReg_pred = LogReg_clf_pool.predict(X_val_02)\n",
    "DeTree_pred = DeTree_clf_pool.predict(X_val_02)\n",
    "SVC_pred = SVC_clf_pool.predict(X_val_02)\n",
    "prediced_Y_traing = pds.DataFrame(zip(LogReg_pred, DeTree_pred, SVC_pred), columns=['LogReg_pred','DeTree_pred','SVC_pred'])\n",
    "prediced_Y_traing[\"averaged_preds\"] = prediced_Y_traing.mode(axis = 1) # (LogReg_pred + DeTree_pred + SVC_pred) // 3\n",
    "averaged_preds = prediced_Y_traing[\"averaged_preds\"].array"
   ]
  },
  {
   "cell_type": "code",
   "execution_count": 703,
   "id": "beb7af0f-0724-4493-9bad-13f2f3dca865",
   "metadata": {},
   "outputs": [
    {
     "name": "stdout",
     "output_type": "stream",
     "text": [
      "0.777778\n"
     ]
    }
   ],
   "source": [
    "AccScore = round(accuracy_score(y_val_02, averaged_preds), 6)\n",
    "print(AccScore)"
   ]
  },
  {
   "cell_type": "code",
   "execution_count": 705,
   "id": "16f9a5ac-7020-49f9-841c-16670abec721",
   "metadata": {},
   "outputs": [],
   "source": [
    "test_df = testing_data_x2.drop(labels = [\"PassengerId\"], axis = 1)\n",
    "submission_df = pds.DataFrame(columns = [\"PassengerId\", \"Survived\"])\n",
    "submission_df.PassengerId = testing_data_x2.PassengerId"
   ]
  },
  {
   "cell_type": "code",
   "execution_count": 706,
   "id": "cd730f47-e602-47e2-b57b-62c8dad6e85e",
   "metadata": {},
   "outputs": [],
   "source": [
    "submission_df.Survived = LogReg_clf_pool.predict(test_df).astype(int)\n",
    "submission_df.to_csv(\"Submission_LogReg_pool.csv\", header = True, index = False)"
   ]
  },
  {
   "cell_type": "code",
   "execution_count": 707,
   "id": "81f92872-f085-4bf0-aeea-0a714c0b261c",
   "metadata": {},
   "outputs": [],
   "source": [
    "submission_df.Survived = DeTree_clf_pool.predict(test_df).astype(int)\n",
    "submission_df.to_csv(\"Submission_DTree_pool.csv\", header = True, index = False)"
   ]
  },
  {
   "cell_type": "code",
   "execution_count": 708,
   "id": "b6e591ee-8423-4f94-a0ae-6658b947e0c6",
   "metadata": {},
   "outputs": [
    {
     "name": "stdout",
     "output_type": "stream",
     "text": [
      "Pool Results for 10 estimators:\n",
      "0.810183\n",
      "Pool Results for 20 estimators:\n",
      "0.810152\n",
      "Pool Results for 30 estimators:\n",
      "0.820183\n",
      "Pool Results for 40 estimators:\n",
      "0.820152\n",
      "Pool Results for 50 estimators:\n",
      "0.822652\n",
      "Pool Results for 60 estimators:\n",
      "0.823902\n",
      "Pool Results for 70 estimators:\n",
      "0.817652\n",
      "Pool Results for 80 estimators:\n",
      "0.816402\n",
      "Pool Results for 90 estimators:\n",
      "0.823902\n",
      "Pool Results for 100 estimators:\n",
      "0.821402\n"
     ]
    }
   ],
   "source": [
    "for i in num_estimators:\n",
    "    ada_boost = AdaBoostClassifier(n_estimators = i, random_state = 12)\n",
    "    results = cross_val_score(ada_boost, X_train_02, y_train_02, cv = k_folds)\n",
    "    print(\"Pool Results for {} estimators:\".format(i))\n",
    "    print(round(results.mean(), 6))"
   ]
  },
  {
   "cell_type": "code",
   "execution_count": 709,
   "id": "d1cfbc37-ca17-471b-afb0-b5372b3d29b4",
   "metadata": {},
   "outputs": [
    {
     "data": {
      "text/html": [
       "<style>#sk-container-id-2 {\n",
       "  /* Definition of color scheme common for light and dark mode */\n",
       "  --sklearn-color-text: black;\n",
       "  --sklearn-color-line: gray;\n",
       "  /* Definition of color scheme for unfitted estimators */\n",
       "  --sklearn-color-unfitted-level-0: #fff5e6;\n",
       "  --sklearn-color-unfitted-level-1: #f6e4d2;\n",
       "  --sklearn-color-unfitted-level-2: #ffe0b3;\n",
       "  --sklearn-color-unfitted-level-3: chocolate;\n",
       "  /* Definition of color scheme for fitted estimators */\n",
       "  --sklearn-color-fitted-level-0: #f0f8ff;\n",
       "  --sklearn-color-fitted-level-1: #d4ebff;\n",
       "  --sklearn-color-fitted-level-2: #b3dbfd;\n",
       "  --sklearn-color-fitted-level-3: cornflowerblue;\n",
       "\n",
       "  /* Specific color for light theme */\n",
       "  --sklearn-color-text-on-default-background: var(--sg-text-color, var(--theme-code-foreground, var(--jp-content-font-color1, black)));\n",
       "  --sklearn-color-background: var(--sg-background-color, var(--theme-background, var(--jp-layout-color0, white)));\n",
       "  --sklearn-color-border-box: var(--sg-text-color, var(--theme-code-foreground, var(--jp-content-font-color1, black)));\n",
       "  --sklearn-color-icon: #696969;\n",
       "\n",
       "  @media (prefers-color-scheme: dark) {\n",
       "    /* Redefinition of color scheme for dark theme */\n",
       "    --sklearn-color-text-on-default-background: var(--sg-text-color, var(--theme-code-foreground, var(--jp-content-font-color1, white)));\n",
       "    --sklearn-color-background: var(--sg-background-color, var(--theme-background, var(--jp-layout-color0, #111)));\n",
       "    --sklearn-color-border-box: var(--sg-text-color, var(--theme-code-foreground, var(--jp-content-font-color1, white)));\n",
       "    --sklearn-color-icon: #878787;\n",
       "  }\n",
       "}\n",
       "\n",
       "#sk-container-id-2 {\n",
       "  color: var(--sklearn-color-text);\n",
       "}\n",
       "\n",
       "#sk-container-id-2 pre {\n",
       "  padding: 0;\n",
       "}\n",
       "\n",
       "#sk-container-id-2 input.sk-hidden--visually {\n",
       "  border: 0;\n",
       "  clip: rect(1px 1px 1px 1px);\n",
       "  clip: rect(1px, 1px, 1px, 1px);\n",
       "  height: 1px;\n",
       "  margin: -1px;\n",
       "  overflow: hidden;\n",
       "  padding: 0;\n",
       "  position: absolute;\n",
       "  width: 1px;\n",
       "}\n",
       "\n",
       "#sk-container-id-2 div.sk-dashed-wrapped {\n",
       "  border: 1px dashed var(--sklearn-color-line);\n",
       "  margin: 0 0.4em 0.5em 0.4em;\n",
       "  box-sizing: border-box;\n",
       "  padding-bottom: 0.4em;\n",
       "  background-color: var(--sklearn-color-background);\n",
       "}\n",
       "\n",
       "#sk-container-id-2 div.sk-container {\n",
       "  /* jupyter's `normalize.less` sets `[hidden] { display: none; }`\n",
       "     but bootstrap.min.css set `[hidden] { display: none !important; }`\n",
       "     so we also need the `!important` here to be able to override the\n",
       "     default hidden behavior on the sphinx rendered scikit-learn.org.\n",
       "     See: https://github.com/scikit-learn/scikit-learn/issues/21755 */\n",
       "  display: inline-block !important;\n",
       "  position: relative;\n",
       "}\n",
       "\n",
       "#sk-container-id-2 div.sk-text-repr-fallback {\n",
       "  display: none;\n",
       "}\n",
       "\n",
       "div.sk-parallel-item,\n",
       "div.sk-serial,\n",
       "div.sk-item {\n",
       "  /* draw centered vertical line to link estimators */\n",
       "  background-image: linear-gradient(var(--sklearn-color-text-on-default-background), var(--sklearn-color-text-on-default-background));\n",
       "  background-size: 2px 100%;\n",
       "  background-repeat: no-repeat;\n",
       "  background-position: center center;\n",
       "}\n",
       "\n",
       "/* Parallel-specific style estimator block */\n",
       "\n",
       "#sk-container-id-2 div.sk-parallel-item::after {\n",
       "  content: \"\";\n",
       "  width: 100%;\n",
       "  border-bottom: 2px solid var(--sklearn-color-text-on-default-background);\n",
       "  flex-grow: 1;\n",
       "}\n",
       "\n",
       "#sk-container-id-2 div.sk-parallel {\n",
       "  display: flex;\n",
       "  align-items: stretch;\n",
       "  justify-content: center;\n",
       "  background-color: var(--sklearn-color-background);\n",
       "  position: relative;\n",
       "}\n",
       "\n",
       "#sk-container-id-2 div.sk-parallel-item {\n",
       "  display: flex;\n",
       "  flex-direction: column;\n",
       "}\n",
       "\n",
       "#sk-container-id-2 div.sk-parallel-item:first-child::after {\n",
       "  align-self: flex-end;\n",
       "  width: 50%;\n",
       "}\n",
       "\n",
       "#sk-container-id-2 div.sk-parallel-item:last-child::after {\n",
       "  align-self: flex-start;\n",
       "  width: 50%;\n",
       "}\n",
       "\n",
       "#sk-container-id-2 div.sk-parallel-item:only-child::after {\n",
       "  width: 0;\n",
       "}\n",
       "\n",
       "/* Serial-specific style estimator block */\n",
       "\n",
       "#sk-container-id-2 div.sk-serial {\n",
       "  display: flex;\n",
       "  flex-direction: column;\n",
       "  align-items: center;\n",
       "  background-color: var(--sklearn-color-background);\n",
       "  padding-right: 1em;\n",
       "  padding-left: 1em;\n",
       "}\n",
       "\n",
       "\n",
       "/* Toggleable style: style used for estimator/Pipeline/ColumnTransformer box that is\n",
       "clickable and can be expanded/collapsed.\n",
       "- Pipeline and ColumnTransformer use this feature and define the default style\n",
       "- Estimators will overwrite some part of the style using the `sk-estimator` class\n",
       "*/\n",
       "\n",
       "/* Pipeline and ColumnTransformer style (default) */\n",
       "\n",
       "#sk-container-id-2 div.sk-toggleable {\n",
       "  /* Default theme specific background. It is overwritten whether we have a\n",
       "  specific estimator or a Pipeline/ColumnTransformer */\n",
       "  background-color: var(--sklearn-color-background);\n",
       "}\n",
       "\n",
       "/* Toggleable label */\n",
       "#sk-container-id-2 label.sk-toggleable__label {\n",
       "  cursor: pointer;\n",
       "  display: block;\n",
       "  width: 100%;\n",
       "  margin-bottom: 0;\n",
       "  padding: 0.5em;\n",
       "  box-sizing: border-box;\n",
       "  text-align: center;\n",
       "}\n",
       "\n",
       "#sk-container-id-2 label.sk-toggleable__label-arrow:before {\n",
       "  /* Arrow on the left of the label */\n",
       "  content: \"▸\";\n",
       "  float: left;\n",
       "  margin-right: 0.25em;\n",
       "  color: var(--sklearn-color-icon);\n",
       "}\n",
       "\n",
       "#sk-container-id-2 label.sk-toggleable__label-arrow:hover:before {\n",
       "  color: var(--sklearn-color-text);\n",
       "}\n",
       "\n",
       "/* Toggleable content - dropdown */\n",
       "\n",
       "#sk-container-id-2 div.sk-toggleable__content {\n",
       "  max-height: 0;\n",
       "  max-width: 0;\n",
       "  overflow: hidden;\n",
       "  text-align: left;\n",
       "  /* unfitted */\n",
       "  background-color: var(--sklearn-color-unfitted-level-0);\n",
       "}\n",
       "\n",
       "#sk-container-id-2 div.sk-toggleable__content.fitted {\n",
       "  /* fitted */\n",
       "  background-color: var(--sklearn-color-fitted-level-0);\n",
       "}\n",
       "\n",
       "#sk-container-id-2 div.sk-toggleable__content pre {\n",
       "  margin: 0.2em;\n",
       "  border-radius: 0.25em;\n",
       "  color: var(--sklearn-color-text);\n",
       "  /* unfitted */\n",
       "  background-color: var(--sklearn-color-unfitted-level-0);\n",
       "}\n",
       "\n",
       "#sk-container-id-2 div.sk-toggleable__content.fitted pre {\n",
       "  /* unfitted */\n",
       "  background-color: var(--sklearn-color-fitted-level-0);\n",
       "}\n",
       "\n",
       "#sk-container-id-2 input.sk-toggleable__control:checked~div.sk-toggleable__content {\n",
       "  /* Expand drop-down */\n",
       "  max-height: 200px;\n",
       "  max-width: 100%;\n",
       "  overflow: auto;\n",
       "}\n",
       "\n",
       "#sk-container-id-2 input.sk-toggleable__control:checked~label.sk-toggleable__label-arrow:before {\n",
       "  content: \"▾\";\n",
       "}\n",
       "\n",
       "/* Pipeline/ColumnTransformer-specific style */\n",
       "\n",
       "#sk-container-id-2 div.sk-label input.sk-toggleable__control:checked~label.sk-toggleable__label {\n",
       "  color: var(--sklearn-color-text);\n",
       "  background-color: var(--sklearn-color-unfitted-level-2);\n",
       "}\n",
       "\n",
       "#sk-container-id-2 div.sk-label.fitted input.sk-toggleable__control:checked~label.sk-toggleable__label {\n",
       "  background-color: var(--sklearn-color-fitted-level-2);\n",
       "}\n",
       "\n",
       "/* Estimator-specific style */\n",
       "\n",
       "/* Colorize estimator box */\n",
       "#sk-container-id-2 div.sk-estimator input.sk-toggleable__control:checked~label.sk-toggleable__label {\n",
       "  /* unfitted */\n",
       "  background-color: var(--sklearn-color-unfitted-level-2);\n",
       "}\n",
       "\n",
       "#sk-container-id-2 div.sk-estimator.fitted input.sk-toggleable__control:checked~label.sk-toggleable__label {\n",
       "  /* fitted */\n",
       "  background-color: var(--sklearn-color-fitted-level-2);\n",
       "}\n",
       "\n",
       "#sk-container-id-2 div.sk-label label.sk-toggleable__label,\n",
       "#sk-container-id-2 div.sk-label label {\n",
       "  /* The background is the default theme color */\n",
       "  color: var(--sklearn-color-text-on-default-background);\n",
       "}\n",
       "\n",
       "/* On hover, darken the color of the background */\n",
       "#sk-container-id-2 div.sk-label:hover label.sk-toggleable__label {\n",
       "  color: var(--sklearn-color-text);\n",
       "  background-color: var(--sklearn-color-unfitted-level-2);\n",
       "}\n",
       "\n",
       "/* Label box, darken color on hover, fitted */\n",
       "#sk-container-id-2 div.sk-label.fitted:hover label.sk-toggleable__label.fitted {\n",
       "  color: var(--sklearn-color-text);\n",
       "  background-color: var(--sklearn-color-fitted-level-2);\n",
       "}\n",
       "\n",
       "/* Estimator label */\n",
       "\n",
       "#sk-container-id-2 div.sk-label label {\n",
       "  font-family: monospace;\n",
       "  font-weight: bold;\n",
       "  display: inline-block;\n",
       "  line-height: 1.2em;\n",
       "}\n",
       "\n",
       "#sk-container-id-2 div.sk-label-container {\n",
       "  text-align: center;\n",
       "}\n",
       "\n",
       "/* Estimator-specific */\n",
       "#sk-container-id-2 div.sk-estimator {\n",
       "  font-family: monospace;\n",
       "  border: 1px dotted var(--sklearn-color-border-box);\n",
       "  border-radius: 0.25em;\n",
       "  box-sizing: border-box;\n",
       "  margin-bottom: 0.5em;\n",
       "  /* unfitted */\n",
       "  background-color: var(--sklearn-color-unfitted-level-0);\n",
       "}\n",
       "\n",
       "#sk-container-id-2 div.sk-estimator.fitted {\n",
       "  /* fitted */\n",
       "  background-color: var(--sklearn-color-fitted-level-0);\n",
       "}\n",
       "\n",
       "/* on hover */\n",
       "#sk-container-id-2 div.sk-estimator:hover {\n",
       "  /* unfitted */\n",
       "  background-color: var(--sklearn-color-unfitted-level-2);\n",
       "}\n",
       "\n",
       "#sk-container-id-2 div.sk-estimator.fitted:hover {\n",
       "  /* fitted */\n",
       "  background-color: var(--sklearn-color-fitted-level-2);\n",
       "}\n",
       "\n",
       "/* Specification for estimator info (e.g. \"i\" and \"?\") */\n",
       "\n",
       "/* Common style for \"i\" and \"?\" */\n",
       "\n",
       ".sk-estimator-doc-link,\n",
       "a:link.sk-estimator-doc-link,\n",
       "a:visited.sk-estimator-doc-link {\n",
       "  float: right;\n",
       "  font-size: smaller;\n",
       "  line-height: 1em;\n",
       "  font-family: monospace;\n",
       "  background-color: var(--sklearn-color-background);\n",
       "  border-radius: 1em;\n",
       "  height: 1em;\n",
       "  width: 1em;\n",
       "  text-decoration: none !important;\n",
       "  margin-left: 1ex;\n",
       "  /* unfitted */\n",
       "  border: var(--sklearn-color-unfitted-level-1) 1pt solid;\n",
       "  color: var(--sklearn-color-unfitted-level-1);\n",
       "}\n",
       "\n",
       ".sk-estimator-doc-link.fitted,\n",
       "a:link.sk-estimator-doc-link.fitted,\n",
       "a:visited.sk-estimator-doc-link.fitted {\n",
       "  /* fitted */\n",
       "  border: var(--sklearn-color-fitted-level-1) 1pt solid;\n",
       "  color: var(--sklearn-color-fitted-level-1);\n",
       "}\n",
       "\n",
       "/* On hover */\n",
       "div.sk-estimator:hover .sk-estimator-doc-link:hover,\n",
       ".sk-estimator-doc-link:hover,\n",
       "div.sk-label-container:hover .sk-estimator-doc-link:hover,\n",
       ".sk-estimator-doc-link:hover {\n",
       "  /* unfitted */\n",
       "  background-color: var(--sklearn-color-unfitted-level-3);\n",
       "  color: var(--sklearn-color-background);\n",
       "  text-decoration: none;\n",
       "}\n",
       "\n",
       "div.sk-estimator.fitted:hover .sk-estimator-doc-link.fitted:hover,\n",
       ".sk-estimator-doc-link.fitted:hover,\n",
       "div.sk-label-container:hover .sk-estimator-doc-link.fitted:hover,\n",
       ".sk-estimator-doc-link.fitted:hover {\n",
       "  /* fitted */\n",
       "  background-color: var(--sklearn-color-fitted-level-3);\n",
       "  color: var(--sklearn-color-background);\n",
       "  text-decoration: none;\n",
       "}\n",
       "\n",
       "/* Span, style for the box shown on hovering the info icon */\n",
       ".sk-estimator-doc-link span {\n",
       "  display: none;\n",
       "  z-index: 9999;\n",
       "  position: relative;\n",
       "  font-weight: normal;\n",
       "  right: .2ex;\n",
       "  padding: .5ex;\n",
       "  margin: .5ex;\n",
       "  width: min-content;\n",
       "  min-width: 20ex;\n",
       "  max-width: 50ex;\n",
       "  color: var(--sklearn-color-text);\n",
       "  box-shadow: 2pt 2pt 4pt #999;\n",
       "  /* unfitted */\n",
       "  background: var(--sklearn-color-unfitted-level-0);\n",
       "  border: .5pt solid var(--sklearn-color-unfitted-level-3);\n",
       "}\n",
       "\n",
       ".sk-estimator-doc-link.fitted span {\n",
       "  /* fitted */\n",
       "  background: var(--sklearn-color-fitted-level-0);\n",
       "  border: var(--sklearn-color-fitted-level-3);\n",
       "}\n",
       "\n",
       ".sk-estimator-doc-link:hover span {\n",
       "  display: block;\n",
       "}\n",
       "\n",
       "/* \"?\"-specific style due to the `<a>` HTML tag */\n",
       "\n",
       "#sk-container-id-2 a.estimator_doc_link {\n",
       "  float: right;\n",
       "  font-size: 1rem;\n",
       "  line-height: 1em;\n",
       "  font-family: monospace;\n",
       "  background-color: var(--sklearn-color-background);\n",
       "  border-radius: 1rem;\n",
       "  height: 1rem;\n",
       "  width: 1rem;\n",
       "  text-decoration: none;\n",
       "  /* unfitted */\n",
       "  color: var(--sklearn-color-unfitted-level-1);\n",
       "  border: var(--sklearn-color-unfitted-level-1) 1pt solid;\n",
       "}\n",
       "\n",
       "#sk-container-id-2 a.estimator_doc_link.fitted {\n",
       "  /* fitted */\n",
       "  border: var(--sklearn-color-fitted-level-1) 1pt solid;\n",
       "  color: var(--sklearn-color-fitted-level-1);\n",
       "}\n",
       "\n",
       "/* On hover */\n",
       "#sk-container-id-2 a.estimator_doc_link:hover {\n",
       "  /* unfitted */\n",
       "  background-color: var(--sklearn-color-unfitted-level-3);\n",
       "  color: var(--sklearn-color-background);\n",
       "  text-decoration: none;\n",
       "}\n",
       "\n",
       "#sk-container-id-2 a.estimator_doc_link.fitted:hover {\n",
       "  /* fitted */\n",
       "  background-color: var(--sklearn-color-fitted-level-3);\n",
       "}\n",
       "</style><div id=\"sk-container-id-2\" class=\"sk-top-container\"><div class=\"sk-text-repr-fallback\"><pre>AdaBoostClassifier(n_estimators=60, random_state=12)</pre><b>In a Jupyter environment, please rerun this cell to show the HTML representation or trust the notebook. <br />On GitHub, the HTML representation is unable to render, please try loading this page with nbviewer.org.</b></div><div class=\"sk-container\" hidden><div class=\"sk-item\"><div class=\"sk-estimator fitted sk-toggleable\"><input class=\"sk-toggleable__control sk-hidden--visually\" id=\"sk-estimator-id-2\" type=\"checkbox\" checked><label for=\"sk-estimator-id-2\" class=\"sk-toggleable__label fitted sk-toggleable__label-arrow fitted\">&nbsp;&nbsp;AdaBoostClassifier<a class=\"sk-estimator-doc-link fitted\" rel=\"noreferrer\" target=\"_blank\" href=\"https://scikit-learn.org/1.4/modules/generated/sklearn.ensemble.AdaBoostClassifier.html\">?<span>Documentation for AdaBoostClassifier</span></a><span class=\"sk-estimator-doc-link fitted\">i<span>Fitted</span></span></label><div class=\"sk-toggleable__content fitted\"><pre>AdaBoostClassifier(n_estimators=60, random_state=12)</pre></div> </div></div></div></div>"
      ],
      "text/plain": [
       "AdaBoostClassifier(n_estimators=60, random_state=12)"
      ]
     },
     "execution_count": 709,
     "metadata": {},
     "output_type": "execute_result"
    }
   ],
   "source": [
    "myAdaBoost = AdaBoostClassifier(n_estimators = 60, random_state = 12)\n",
    "myAdaBoost.fit(X_train_02, y_train_02)"
   ]
  },
  {
   "cell_type": "code",
   "execution_count": 710,
   "id": "297b725a-c1f3-4316-b453-295b6390406d",
   "metadata": {},
   "outputs": [],
   "source": [
    "submission_df.Survived = myAdaBoost.predict(test_df).astype(int)\n",
    "submission_df.to_csv(\"Submission_AdaBoost_pool.csv\", header = True, index = False)"
   ]
  },
  {
   "cell_type": "code",
   "execution_count": 714,
   "id": "571fd405-9ded-4040-9792-92f599ec57f1",
   "metadata": {},
   "outputs": [
    {
     "name": "stdout",
     "output_type": "stream",
     "text": [
      "Accuracy Score for Voting Rule = hard is:  0.811111\n",
      "Log Loss for Voting Rule = hard is:  6.808246\n",
      "F1 Score for Voting Rule = hard is  0.753623\n"
     ]
    }
   ],
   "source": [
    "voting_clf_pool = VotingClassifier(estimators=[('AdaBoost', myAdaBoost), ('DeTree', DeTree_clf_pool), ('LogReg', LogReg_clf_pool)], voting = 'hard', flatten_transform = True)\n",
    "voting_clf_pool.fit(X_train_02, y_train_02)\n",
    "preds = voting_clf_pool.predict(X_val_02)      \n",
    "AccScore = round(accuracy_score(y_val_02, preds), 6)\n",
    "l_loss = round(log_loss(y_val_02, preds), 6)\n",
    "f1 = round(f1_score(y_val_02, preds), 6)\n",
    "print(\"Accuracy Score for Voting Rule = hard is: \", AccScore)\n",
    "print(\"Log Loss for Voting Rule = hard is: \",  l_loss)\n",
    "print(\"F1 Score for Voting Rule = hard is \", f1)"
   ]
  },
  {
   "cell_type": "code",
   "execution_count": 715,
   "id": "958ed673-c5d0-4862-9ef6-439e70ef5ec3",
   "metadata": {},
   "outputs": [],
   "source": [
    "submission_df.Survived = voting_clf_pool.predict(test_df).astype(int)\n",
    "submission_df.to_csv(\"Submission_Voting_pool.csv\", header = True, index = False)"
   ]
  },
  {
   "attachments": {
    "4af70184-bd9b-42a1-993a-23af9dfafc80.png": {
     "image/png": "[encoded data removed]"
    }
   },
   "cell_type": "markdown",
   "id": "912760da-2bee-4831-a2d2-e6219b204ffe",
   "metadata": {},
   "source": [
    "![Result20240214.png](attachment:4af70184-bd9b-42a1-993a-23af9dfafc80.png)"
   ]
  },
  {
   "cell_type": "code",
   "execution_count": null,
   "id": "2b0c3dc0-1500-4656-a674-4c2fd60f89ff",
   "metadata": {},
   "outputs": [],
   "source": []
  }
 ],
 "metadata": {
  "kernelspec": {
   "display_name": "Python 3 (ipykernel)",
   "language": "python",
   "name": "python3"
  },
  "language_info": {
   "codemirror_mode": {
    "name": "ipython",
    "version": 3
   },
   "file_extension": ".py",
   "mimetype": "text/x-python",
   "name": "python",
   "nbconvert_exporter": "python",
   "pygments_lexer": "ipython3",
   "version": "3.11.4"
  }
 },
 "nbformat": 4,
 "nbformat_minor": 5
}
