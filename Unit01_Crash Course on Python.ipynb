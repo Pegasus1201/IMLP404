{
 "cells": [
  {
   "cell_type": "markdown",
   "metadata": {},
   "source": [
    "# Python programming \n",
    "## Crash Course on Python Coding Practice\n",
    "\n",
    "No matter the level of mastery you hope to get to in Python,<br> \n",
    "you'll need these fundamentals in place before you jump into any project.<br><br>\n",
    "\n",
    "You need to know how to:\n",
    "\n",
    "- declare variables\n",
    "- collect user input\n",
    "- store information\n",
    "- repeat an action through loops\n",
    "- write functions to repeat blocks of code\n"
   ]
  },
  {
   "cell_type": "markdown",
   "metadata": {},
   "source": [
    "### 01 - 奇偶數辨別（Odd or even）\n",
    "#### 當使用者輸入一個的數字，它能夠辨別奇偶，並輸出檢驗結果給使用者。\n",
    "\n",
    "> 題目：輸入一數字判斷奇數或偶數<br>\n",
    "輸入(Input): 一個數字 <br>\n",
    "輸出(Output):奇數或偶數\n",
    "\n",
    "* 進階: 可以限制輸入一個介於一定範圍（例如 1 到 1000）的數字"
   ]
  },
  {
   "cell_type": "code",
   "execution_count": 3,
   "metadata": {},
   "outputs": [
    {
     "name": "stdin",
     "output_type": "stream",
     "text": [
      "請輸入一個介於 1~ 1000 的整數： 2\n"
     ]
    },
    {
     "name": "stdout",
     "output_type": "stream",
     "text": [
      "正確範圍，你輸入的是偶數\n"
     ]
    }
   ],
   "source": [
    "myNum = int(input(\"請輸入一個介於 1~ 1000 的整數：\"))\n",
    "if 1 <= myNum <= 1000:\n",
    "    if myNum % 2 == 0:\n",
    "        print(\"正確範圍，你輸入的是偶數\")\n",
    "    else:\n",
    "        print(\"正確範圍，你輸入的是偶數\")    \n",
    "else:\n",
    "    print(\"錯誤輸入\")"
   ]
  },
  {
   "cell_type": "markdown",
   "metadata": {},
   "source": [
    "### 02 - 填字遊戲（Mad libs game）\n",
    "#### 使用者輸入任何字，它可以是名詞、形容詞、動詞、代名詞等。程式得到文字後，可自行排列，組成成一個模板故事。\n",
    "\n",
    "> 題目：輸入一數字判斷奇數或偶數<br>\n",
    "輸入(Input): 一連串依據說明輸入對應文字 <br>\n",
    "輸出(Output): 模板故事\n",
    "\n",
    "* 進階: 可以讓程式重複執行"
   ]
  },
  {
   "cell_type": "code",
   "execution_count": 38,
   "metadata": {},
   "outputs": [
    {
     "name": "stdin",
     "output_type": "stream",
     "text": [
      "請問需要建造幾次模板故事： 1\n",
      "請輸入您（求職者）的姓名： 老王\n",
      "請輸入您的求職者學歷（國中 / 高中 / 大學 / 碩士 / 博士）： 國小\n",
      "求職者學歷未在指定範圍，請重新輸入： 國中\n",
      "請輸入您的工作年資： 3\n",
      "請輸入您的期望待遇（萬元 / 月），最多小數點二位： 5\n"
     ]
    },
    {
     "name": "stdout",
     "output_type": "stream",
     "text": [
      "----------------------------------------------\n",
      "求職者姓名：老王\n",
      "求職者學歷：國中 工作年資：3年\n",
      "==================判斷結論=====================\n",
      "求職者期望薪資已超過設定上限\n"
     ]
    }
   ],
   "source": [
    "EduRangeCeiling = {\"國中\":3, \"高中\": 3.5, \"大學\": 5, \"碩士\": 5.5, \"博士\": 6.5} #設定學歷對應最高薪資上限\n",
    "               \n",
    "LoopCount = int(input(\"請問需要建造幾次模板故事：\"))\n",
    "for i in range(LoopCount):\n",
    "    EmpName = input(\"請輸入您（求職者）的姓名：\")\n",
    "    EmpEducation = input(\"請輸入您的求職者學歷（國中 / 高中 / 大學 / 碩士 / 博士）：\")\n",
    "    if EmpEducation not in EduRangeCeiling.keys():\n",
    "       while EmpEducation not in EduRangeCeiling.keys():\n",
    "             EmpEducation = input(\"求職者學歷未在指定範圍，請重新輸入：\")\n",
    "    EmpWorkYear = input(\"請輸入您的工作年資：\")\n",
    "    EmpExpSalary = float(input(\"請輸入您的期望待遇（萬元 / 月），最多小數點二位：\"))\n",
    "    # 輸出判斷結果：\n",
    "    print(\"----------------------------------------------\")\n",
    "    print(\"求職者姓名：\" + EmpName)\n",
    "    # print(\"求職者學歷：\" + EmpEducation + \" 工作年資：\" + EmpWorkYear + \"年\")\n",
    "    print(\"求職者學歷：%s 工作年資：%s年\"%(EmpEducation, EmpWorkYear))\n",
    "    print(\"==================判斷結論=====================\")\n",
    "    if EmpExpSalary > EduRangeCeiling[EmpEducation]:\n",
    "       print(\"求職者期望薪資已超過設定上限\")\n",
    "    else:\n",
    "       print(\"求職者期望薪資尚在設定範圍\")"
   ]
  },
  {
   "cell_type": "markdown",
   "metadata": {},
   "source": [
    "### 03 -  猜數字（Guess the number）\n",
    "#### 請使用者猜一個介於範圍（例如 1 到 100）之間的數字，\n",
    "#### 若使用者猜錯，就詢問他們想繼續玩還是退出；若使用者猜對，就顯示祝賀訊息，\n",
    "#### 並統計使用者的嘗試次數。如果使用者輸入的數字超出設定範圍，就顯示錯誤提示。\n",
    "\n",
    "![](data\\guess.png)\n"
   ]
  },
  {
   "cell_type": "code",
   "execution_count": 41,
   "metadata": {},
   "outputs": [
    {
     "name": "stdin",
     "output_type": "stream",
     "text": [
      "猜數字範圍（最多猜 10 次，這是第 1 次） 1 < ? < 1000 500\n",
      "猜數字範圍（最多猜 10 次，這是第 2 次） 1 < ? < 500 250\n",
      "猜數字範圍（最多猜 10 次，這是第 3 次） 1 < ? < 250 125\n",
      "猜數字範圍（最多猜 10 次，這是第 4 次） 1 < ? < 125 62\n",
      "猜數字範圍（最多猜 10 次，這是第 5 次） 62 < ? < 125 91\n",
      "猜數字範圍（最多猜 10 次，這是第 6 次） 62 < ? < 91 77\n",
      "猜數字範圍（最多猜 10 次，這是第 7 次） 62 < ? < 77 69\n"
     ]
    },
    {
     "name": "stdout",
     "output_type": "stream",
     "text": [
      "恭喜！答對，答案是：69\n"
     ]
    }
   ],
   "source": [
    "import random\n",
    "AnswerRngSet = [1, 1000]  #設定範圍\n",
    "myAnswer = random.randint(AnswerRngSet[0], AnswerRngSet[1] - 1)\n",
    "yourAnswerCount = 1\n",
    "AnswerMax = 10\n",
    "while yourAnswerCount <= AnswerMax:\n",
    "      yourAnswer = int(input(\"猜數字範圍（最多猜 %d 次，這是第 %d 次） %d < ? < %d\"%(AnswerMax, yourAnswerCount, AnswerRngSet[0], AnswerRngSet[1])))\n",
    "      if yourAnswer == myAnswer:\n",
    "          print(\"恭喜！答對，答案是：%d\"%(myAnswer))\n",
    "          break\n",
    "      elif yourAnswer > myAnswer:\n",
    "          AnswerRngSet[1] = yourAnswer\n",
    "      elif yourAnswer < myAnswer:     \n",
    "          AnswerRngSet[0] = yourAnswer\n",
    "      yourAnswerCount += 1\n",
    "    \n",
    "if yourAnswer != myAnswer:\n",
    "   print(\"猜測次數已達上限，可惜沒猜對！正確答案是：\" + str(myAnswer) + \"\\n下次再接再厲\")"
   ]
  },
  {
   "cell_type": "markdown",
   "metadata": {},
   "source": [
    "### 04 - 計算字數（Word count）\n",
    "#### 使用者輸入一段文字或讀取一檔案，程式統計字數。\n",
    "\n",
    "> 輸入(Input):我要成為寫程式的專家 <br>\n",
    "輸出(Output):你用了 10 個文字述說內心的想法\n",
    "\n",
    "#### 在特定的文章字串中搜尋輸入的特定字，請使用者輸入欲搜尋的文字，印出總共有幾個。<br>\n",
    ">輸入(Input):天<br>\n",
    "輸出(Output): 9\n",
    "\n",
    "* 進階:計算文章中去除標點符號後的字數，找出文章中出現最多的字與次數"
   ]
  },
  {
   "cell_type": "code",
   "execution_count": 51,
   "metadata": {},
   "outputs": [
    {
     "name": "stdin",
     "output_type": "stream",
     "text": [
      " 資料科學家的夢想\n"
     ]
    },
    {
     "name": "stdout",
     "output_type": "stream",
     "text": [
      "你用了 8 個文字述說內心的想法\n",
      "------------------------------------------\n"
     ]
    },
    {
     "name": "stdin",
     "output_type": "stream",
     "text": [
      "請輸入你想要計算的文字： 空\n"
     ]
    },
    {
     "name": "stdout",
     "output_type": "stream",
     "text": [
      "7\n",
      "------------------------------------------\n",
      "文章總字數: 260\n",
      "出現最多的字：無\n",
      "出現次數 21\n"
     ]
    }
   ],
   "source": [
    "word = input()\n",
    "print(\"你用了 %d 個文字述說內心的想法\"%(len(word)))\n",
    "\n",
    "InputArticle = '''\n",
    "觀自在菩薩。行深般若波羅蜜多時。\n",
    "照見五蘊皆空。度一切苦厄。\n",
    "舍利子。色不異空。空不異色。\n",
    "色即是空。空即是色。\n",
    "受想行識。亦復如是。\n",
    "舍利子。是諸法空相。\n",
    "不生不滅。不垢不淨。不增不減。\n",
    "是故空中無色。無受想行識。\n",
    "無眼耳鼻舌身意。無色聲香味觸法。\n",
    "無眼界。乃至無意識界。\n",
    "無無明。亦無無明盡。\n",
    "乃至無老死。亦無老死盡。\n",
    "無苦集滅道。無智亦無得。以無所得故。\n",
    "菩提薩埵。依般若波羅蜜多故。\n",
    "心無罣礙。無罣礙故。無有恐怖。\n",
    "遠離顛倒夢想。究竟涅槃。\n",
    "三世諸佛。依般若波羅蜜多故。\n",
    "得阿耨多羅三藐三菩提。\n",
    "故知般若波羅蜜多。\n",
    "是大神咒。是大明咒。\n",
    "是無上咒。是無等等咒。\n",
    "能除一切苦。真實不虛。\n",
    "故說般若波羅蜜多咒。即說咒曰。\n",
    "揭諦揭諦　波羅揭諦　波羅僧揭諦\n",
    "菩提薩婆訶。\n",
    "'''\n",
    "\n",
    "#請使用者輸入一文字\n",
    "#計算該文字在文章出現次數\n",
    "#列印出現次數\n",
    "print (\"------------------------------------------\")\n",
    "C_Str = input(\"請輸入你想要計算的文字：\")\n",
    "S_count = InputArticle.count(C_Str)\n",
    "print(S_count)\n",
    "\n",
    "print (\"------------------------------------------\")\n",
    "#把文字中 '。，\\n；：？「」'的標點符號去除\n",
    "for i in \"。，\\n；：？「」　\":\n",
    "    InputArticle = InputArticle.replace(i, '')\n",
    "    \n",
    "#目前已知出現最多次的字的次數\n",
    "#目前已知出現最多次的字\n",
    " \n",
    "print('文章總字數:',len(InputArticle))\n",
    "\n",
    "maxCount = 0\n",
    "maxString = ''\n",
    "for astr in InputArticle:\n",
    "    #print(astr)\n",
    "    s_ct=InputArticle.count(astr)\n",
    "    if s_ct > maxCount:\n",
    "       maxCount = s_ct\n",
    "       maxString = astr\n",
    "    # 如果 現在這個字出現的次數(act) 大於 目前已知出現最多次字的次數\n",
    "    # 就讓 現在這個字出現的次數 成為 目前已知出現最多次的字的次數\n",
    "    #還要記錄 現在這個字(astr) 到 目前已知出現最多次的字\n",
    "\n",
    "print(\"出現最多的字：\" + maxString + \"\\n出現次數 \" + str(maxCount))"
   ]
  },
  {
   "cell_type": "markdown",
   "metadata": {},
   "source": [
    "### 05 - Email 域名判斷器（Email slicer）\n",
    "#### 請用戶輸入 Email 地址，然後判斷它是自定義域名還是熱門域名。\n",
    "\n",
    "> 題目：<br>\n",
    "輸入(Input):shelly200318@hotmail.com.tw  <br>\n",
    "輸出(Output):Your username is 'shelly200318' and your domain name is 'hotmail.com.tw' <br>\n",
    "\n",
    "\n",
    "* 進階：把常用的信箱存成字典，加入判斷是否為\n",
    ">輸入(Input):mary.jane@gmail.com  <br>\n",
    "輸出(Output):這是註冊在 Google 之下的 Email 地址 <br>\n",
    "輸入(Input):matt.pan@myfantasy.com  <br>\n",
    "輸出(Output):這是在 myfantasy 之下自定義域\n",
    "\n"
   ]
  },
  {
   "cell_type": "code",
   "execution_count": 52,
   "metadata": {},
   "outputs": [
    {
     "name": "stdin",
     "output_type": "stream",
     "text": [
      "What is your email address?:  iamenix2003@yahoo.com.tw\n"
     ]
    },
    {
     "name": "stdout",
     "output_type": "stream",
     "text": [
      "Your username is 'iamenix2003' and your domain name is 'yahoo.com.tw'\n",
      "這是註冊在 Yahoo 之下的 Email 地址'\n"
     ]
    }
   ],
   "source": [
    "# Get user email address\n",
    "email = input(\"What is your email address?: \").strip()\n",
    "\n",
    "# Slice out the user name\n",
    "user_name = email[0:email.index(\"@\")]\n",
    "\n",
    "# Slice the domain name\n",
    "domain_name = email[email.index(\"@\") + 1:len(email)]\n",
    "\n",
    "# Format message\n",
    "output = \"Your username is '{}' and your domain name is '{}'\".format(user_name,domain_name)\n",
    "\n",
    "# Display output message\n",
    "print(output)\n",
    "\n",
    "\n",
    "domain = {'gmail.com':'Google','yahoo.com.tw':'Yahoo','ntu.edu.tw':'臺大','hotmail.com.tw':'Hotmail','hotmail.com':'Hotmail'}\n",
    "if domain_name in domain.keys():\n",
    "    output = \"這是註冊在 {} 之下的 Email 地址'\".format(domain[domain_name])\n",
    "else:\n",
    "    output = \"這是在 {} 之下自定義域\".format(domain_name)\n",
    "print(output)"
   ]
  },
  {
   "cell_type": "code",
   "execution_count": 54,
   "metadata": {},
   "outputs": [
    {
     "name": "stdin",
     "output_type": "stream",
     "text": [
      "What is your email address?:  cnhsueh@hncb.com.tw\n"
     ]
    },
    {
     "name": "stdout",
     "output_type": "stream",
     "text": [
      "Your username is 'cnhsueh' and your domain name is 'hncb.com.tw'\n",
      "這是在 hncb.com.tw 之下自定義域\n"
     ]
    }
   ],
   "source": [
    "# 另一種寫法\n",
    "# Get user email address\n",
    "email = input(\"What is your email address?: \").strip().split(\"@\")\n",
    "\n",
    "# Slice out the user name\n",
    "user_name = email[0]\n",
    "\n",
    "# Slice the domain name\n",
    "domain_name = email[1]\n",
    "\n",
    "# Format message\n",
    "output = \"Your username is '{}' and your domain name is '{}'\".format(user_name, domain_name)\n",
    "\n",
    "# Display output message\n",
    "print(output)\n",
    "\n",
    "domain = {'gmail.com':'Google','yahoo.com.tw':'Yahoo','ntu.edu.tw':'臺大','hotmail.com.tw':'Hotmail','hotmail.com':'Hotmail'}\n",
    "if domain_name in domain.keys():\n",
    "    output = \"這是註冊在 {} 之下的 Email 地址'\".format(domain[domain_name])\n",
    "else:\n",
    "    output = \"這是在 {} 之下自定義域\".format(domain_name)\n",
    "print(output)"
   ]
  },
  {
   "cell_type": "markdown",
   "metadata": {},
   "source": [
    "### 06 - 及格名單（Pass list）\n",
    "#### 請使用集合功能來完成各科級名單的判斷\n",
    "```\n",
    "米花市帝丹小學一年级B班正舉辦期中考試\n",
    "數學及格的有：柯南、灰原、步美、美環、光彦\n",
    "英文及格的有：柯南、灰原、丸尾、野口、步美\n",
    "以上已列出全班所有人\n",
    "```\n",
    "\n",
    ">請分別列出<br>\n",
    "數學及格但英文不及格的同學名單<br>\n",
    "數學不及格但英文及格的同學名單<br>\n",
    "兩者皆及格名單<br>\n",
    "* Hint:差集(減法)、交集\n"
   ]
  },
  {
   "cell_type": "code",
   "execution_count": 60,
   "metadata": {},
   "outputs": [
    {
     "name": "stdout",
     "output_type": "stream",
     "text": [
      "{'柯南', '灰原', '步美'}\n",
      "數學與英文都及格的名單：柯南、步美、灰原\n",
      "數學及格但英文不及格的名單：光彦、美環\n",
      "數學不及格但英文及格的名單：丸尾、野口\n",
      "全班同學名單：丸尾、光彦、柯南、步美、灰原、美環、野口\n"
     ]
    }
   ],
   "source": [
    "m={'柯南','灰原','步美','美環','光彦'}\n",
    "e={'柯南','灰原','丸尾','野口','步美'}\n",
    "a=m.intersection(e)\n",
    "print(a)\n",
    "a1=list(a)\n",
    "a1.sort()\n",
    "print(\"數學與英文都及格的名單：\" + '、'.join(a1))\n",
    "\n",
    "b=m.difference(a)\n",
    "b1=list(b)\n",
    "b1.sort()\n",
    "print(\"數學及格但英文不及格的名單：\" + '、'.join(b1))\n",
    "\n",
    "c=e.difference(a)\n",
    "c1=list(c)\n",
    "c1.sort()\n",
    "print(\"數學不及格但英文及格的名單：\" + '、'.join(c1))\n",
    "\n",
    "full=m.union(e)\n",
    "full_1=list(full)\n",
    "full_1.sort()\n",
    "print(\"全班同學名單：\" + '、'.join(full_1))\n"
   ]
  },
  {
   "cell_type": "markdown",
   "metadata": {},
   "source": [
    "### 07 - 查詢路徑下所有檔案\n",
    "#### 請使用者輸入路徑，自動抓取路徑下所有檔案名稱\n",
    "\n",
    ">輸入(Input):data\\testfile 或 D:\\code\\ML_202105\\data\\testfile  <br>\n",
    "輸出(Output):\n",
    "```\n",
    "I'm a directory: file1\n",
    "I'm a directory: file2\n",
    "I'm a File: hw_07945001.txt\n",
    "I'm a File: hw_079450010.doc\n",
    "I'm a File: hw_07945002.txt\n",
    "I'm a File: hw_07945003.txt\n",
    "I'm a File: hw_07945004.txt\n",
    "I'm a File: hw_07945005.txt\n",
    "I'm a File: hw_07945007.txt\n",
    "I'm a File: hw_07945008.txt\n",
    "I'm a File: hw_07945009.txt\n",
    "```\n",
    "\n",
    "* 進階: 把file的學號抓出來，另存成一個新的csv檔"
   ]
  },
  {
   "cell_type": "code",
   "execution_count": 70,
   "metadata": {},
   "outputs": [
    {
     "name": "stdin",
     "output_type": "stream",
     "text": [
      " D:\\Python Leanrning\\Ntu_pythonIMLP_202401\\Unit01\\testfile\n"
     ]
    },
    {
     "name": "stdout",
     "output_type": "stream",
     "text": [
      "['file1', 'file2', 'hw_07945001.txt', 'hw_079450010.doc', 'hw_07945002.txt', 'hw_07945003.txt', 'hw_07945004.txt', 'hw_07945005.txt', 'hw_07945007.txt', 'hw_07945008.txt', 'hw_07945009.txt']\n",
      "I'm a directory: file1\n",
      "I'm a directory: file2\n",
      "I'm a File: hw_07945001.txt\n",
      "I'm a File: hw_079450010.doc\n",
      "I'm a File: hw_07945002.txt\n",
      "I'm a File: hw_07945003.txt\n",
      "I'm a File: hw_07945004.txt\n",
      "I'm a File: hw_07945005.txt\n",
      "I'm a File: hw_07945007.txt\n",
      "I'm a File: hw_07945008.txt\n",
      "I'm a File: hw_07945009.txt\n",
      "['07945001', '079450010', '07945002', '07945003', '07945004', '07945005', '07945007', '07945008', '07945009']\n",
      "['hw_079450010.doc']\n"
     ]
    }
   ],
   "source": [
    "import os\n",
    "\n",
    "# 請使用者輸入或指定要查詢的路徑\n",
    "yourPath = input()\n",
    "# 列出指定路徑底下所有檔案(包含資料夾)\n",
    "allFileList = os.listdir(yourPath)\n",
    "print(allFileList)\n",
    "ID = []\n",
    "ErrorFileFormat = []\n",
    "# 逐一查詢檔案清單\n",
    "for file in allFileList:\n",
    "#   這邊也可以視情況，做檔案的操作(複製、讀取...等)\n",
    "#   使用isdir檢查是否為目錄\n",
    "#   使用join的方式把路徑與檔案名稱串起來(等同filePath+fileName)\n",
    "    if os.path.isdir(os.path.join(yourPath,file)):\n",
    "        print(\"I'm a directory: \" + file)\n",
    "    #   使用isfile判斷是否為檔案\n",
    "    elif os.path.isfile(os.path.join(yourPath,file)):\n",
    "        print(\"I'm a File: \" + file)\n",
    "        ID.append(file[file.index(\"_\")+1:file.index(\".\")])\n",
    "        if file[file.index(\".\")+1:] != \"txt\":\n",
    "           ErrorFileFormat.append(file) \n",
    "        \n",
    "print(ID)\n",
    "print(ErrorFileFormat)"
   ]
  },
  {
   "cell_type": "markdown",
   "metadata": {},
   "source": [
    "### 08 - 資料夾管理(shutil)\n",
    "#### 說明 ####\n",
    "\n",
    "```\n",
    "在目前所在的目錄下建立一files資料夾\n",
    "\n",
    "令使用者輸入一數字N，並在files資料夾中建立f1, f2… fN等N個資料夾後列出files的資料夾內容\n",
    "\n",
    "將files資料夾裡的f1資料夾重新命名成folder1後再列出files的資料夾內容\n",
    "\n",
    "移除files資料夾中的folder1後再列出files的資料夾內容\n",
    "\n",
    "最後移除files資料夾\n",
    "※須先退出files資料夾(os.chdir(../)) ![image.png](attachment:image.png)\n",
    "```\n"
   ]
  },
  {
   "cell_type": "code",
   "execution_count": 80,
   "metadata": {},
   "outputs": [
    {
     "name": "stdout",
     "output_type": "stream",
     "text": [
      "D:\\Python Leanrning\\Ntu_pythonIMLP_202401\\Unit01\\files\n"
     ]
    },
    {
     "name": "stdin",
     "output_type": "stream",
     "text": [
      "輸入目標資料夾： D:\\Python Leanrning\\Ntu_pythonIMLP_202401\\Unit01\n"
     ]
    },
    {
     "name": "stdout",
     "output_type": "stream",
     "text": [
      "D:\\Python Leanrning\\Ntu_pythonIMLP_202401\\Unit01\n"
     ]
    }
   ],
   "source": [
    "import os\n",
    "import shutil\n",
    "print(os.getcwd())\n",
    "ExactPath = input(\"輸入目標資料夾：\")\n",
    "os.chdir(ExactPath)\n",
    "print(os.getcwd())"
   ]
  },
  {
   "cell_type": "code",
   "execution_count": 82,
   "metadata": {},
   "outputs": [
    {
     "name": "stdin",
     "output_type": "stream",
     "text": [
      " 3\n"
     ]
    },
    {
     "name": "stdout",
     "output_type": "stream",
     "text": [
      "['f1', 'f2', 'f3']\n"
     ]
    },
    {
     "name": "stdin",
     "output_type": "stream",
     "text": [
      "Enter \n"
     ]
    },
    {
     "name": "stdout",
     "output_type": "stream",
     "text": [
      "['f2', 'f3', 'folder1']\n"
     ]
    },
    {
     "name": "stdin",
     "output_type": "stream",
     "text": [
      "Enter \n"
     ]
    },
    {
     "name": "stdout",
     "output_type": "stream",
     "text": [
      "['f2', 'f3']\n"
     ]
    },
    {
     "name": "stdin",
     "output_type": "stream",
     "text": [
      "Enter \n"
     ]
    },
    {
     "name": "stdout",
     "output_type": "stream",
     "text": [
      "D:\\Python Leanrning\\Ntu_pythonIMLP_202401\\Unit01\n"
     ]
    }
   ],
   "source": [
    "import os\n",
    "import shutil\n",
    "if os.path.exists('files'):\n",
    "    shutil.rmtree('files')\n",
    "os.mkdir('files')\n",
    "\n",
    "n = int(input())\n",
    "# 切換到 files 資料夾，並創建 f1~fn 資料夾\n",
    "os.chdir('files')\n",
    "for i in range(1, n + 1):\n",
    "    os.mkdir('f' + str(i))\n",
    "print(sorted(os.listdir()))\n",
    "a = input(\"Enter\")\n",
    "\n",
    "os.rename('f1','folder1')\n",
    "print(sorted(os.listdir()))\n",
    "a = input(\"Enter\")\n",
    "\n",
    "os.rmdir('folder1')\n",
    "print(sorted(os.listdir()))\n",
    "a = input('Enter')\n",
    "os.chdir('../')\n",
    "shutil.rmtree('files')\n",
    "print(os.getcwd())"
   ]
  },
  {
   "cell_type": "markdown",
   "metadata": {},
   "source": [
    "### 09 - 回文判斷（Is a palindrome）\n",
    "#### 請使用者輸入單字，判斷它是否為回文，也就是該單字前後對稱，例如 madam，從前讀到後或是從後讀到前的順序都是 madam。\n",
    "\n",
    "> 題目：<br>\n",
    "輸入(Input): 雨 滋 春 樹 碧 連 天  天 連 碧 樹 春 滋 雨 <br>\n",
    "輸出(Output):The text you have entered is a palindrome!<br>\n",
    "輸入(Input): 資工訓練班 <br>\n",
    "輸出(Output):The text you have entered is not a palindrome.\n"
   ]
  },
  {
   "cell_type": "code",
   "execution_count": 103,
   "metadata": {},
   "outputs": [
    {
     "name": "stdout",
     "output_type": "stream",
     "text": [
      "\n",
      "Palindrome checker\n"
     ]
    },
    {
     "name": "stdin",
     "output_type": "stream",
     "text": [
      "\n",
      "Please enter a word, phrase, or a sentence \n",
      "to check if it is a palindrome:  晚紅飛盡春寒淺,淺寒春盡飛紅晚\n"
     ]
    },
    {
     "name": "stdout",
     "output_type": "stream",
     "text": [
      "The text you have entered is a palindrome!\n"
     ]
    }
   ],
   "source": [
    "def convertInputString():\n",
    "    #請使用者輸入一串字串，先轉換字串為統一小寫\n",
    "    rawInput = input(\"\\nPlease enter a word, phrase, or a sentence \\nto check if it is a palindrome: \") \n",
    "    rawString = rawInput.lower()\n",
    "    rawList = list(rawString)\n",
    "    return rawList\n",
    "\n",
    "def stripAnalphabetics(dirtyList): \n",
    "    analphabeticList = [\" \", \"-\", \".\", \",\", \":\", \";\", \"!\", \"?\", \"'\", \"\\\"\"] \n",
    "    for char in analphabeticList:\n",
    "        if char in dirtyList:\n",
    "           dirtyList.remove(char)\n",
    "           return stripAnalphabetics(dirtyList)\n",
    "    #去除相關標點符號\n",
    "    return dirtyList\n",
    "\n",
    "def runPalindromeCheck(straightList):\n",
    "    reversedList = straightList[::-1] \n",
    "    if reversedList == straightList: \n",
    "        return \"The text you have entered is a palindrome!\" \n",
    "    else: \n",
    "        return \"The text you have entered is not a palindrome.\" \n",
    "\n",
    "def main(): \n",
    "    print(\"\\nPalindrome checker\") \n",
    "    original_list = convertInputString()\n",
    "    original_list = stripAnalphabetics(original_list)\n",
    "    PalindromeCheckResult = runPalindromeCheck(original_list)\n",
    "    print(PalindromeCheckResult)\n",
    "        \n",
    "main()"
   ]
  },
  {
   "cell_type": "markdown",
   "metadata": {},
   "source": [
    "### 10 - 總成績計算\n",
    "#### 說明 ####\n",
    "\n",
    "請讀取 `data/english_list.csv`與`data/math_list.csv`檔案(`utf-8`)後，將每位同學的英文與數學成績加總起來，並將檔案寫入至 `./Score.csv`中，編碼成`utf-8`<br>\n",
    "最後列印出每位學生姓名與加總後的分數<br>\n",
    "<a href=\"data\\english_list.csv\">英文成績下載</a><br>\n",
    "<a href=\"data\\math_list.csv\">數學成績下載</a><br>\n",
    "\n",
    "#### Input Format ####\n",
    "\n",
    "<br>\n",
    "csv資料(英文成績)<br>\n",
    "csv資料(數學成績)<br>\n",
    "<br>\n",
    "\n",
    "#### Output Format ####\n",
    "\n",
    "<br>\n",
    "\n",
    "![](data\\05.JPG)<br>\n",
    "<br>\n",
    "<br>\n",
    "(圖片參考用 以文字敘述為準)<br>\n",
    "\n",
    "\n",
    "\n",
    "\n",
    "#### Sample Input 1####\n",
    "\n",
    "\n",
    "\n",
    "```\n",
    "無標準輸入，只有檔案輸入\n",
    "```\n",
    "\n",
    "\n",
    "\n",
    "#### Sample Output 1####\n",
    "\n",
    "\n",
    "```\n",
    "廖冠霖 142\n",
    "王力中 124\n",
    "張平舜 108\n",
    ".\n",
    ".\n",
    ".\n",
    ".\n",
    ".\n",
    "陳姿茜 77\n",
    "涂珮瑜 134\n",
    "夏明哲 111\n",
    "\n",
    "```\n",
    "\n",
    "\n",
    "#### Hint ####\n",
    "\n",
    "\n",
    "\n",
    "```\n",
    "None\n",
    "```\n"
   ]
  },
  {
   "cell_type": "code",
   "execution_count": 104,
   "metadata": {},
   "outputs": [
    {
     "name": "stdout",
     "output_type": "stream",
     "text": [
      "D:\\Python Leanrning\\Ntu_pythonIMLP_202401\\Unit01\n"
     ]
    }
   ],
   "source": [
    "print(os.getcwd())"
   ]
  },
  {
   "cell_type": "code",
   "execution_count": 110,
   "metadata": {},
   "outputs": [
    {
     "name": "stdout",
     "output_type": "stream",
     "text": [
      "廖冠霖 142\n",
      "王力中 124\n",
      "張平舜 108\n",
      "洪婷婷 128\n",
      "林士雨 86\n",
      "陳宗翰 28\n",
      "洪偉珊 134\n",
      "顏又芹 32\n",
      "王亦夏 55\n",
      "姚成華 77\n",
      "潘詠月 144\n",
      "倪浩迪 163\n",
      "郭心怡 109\n",
      "黃政聖 99\n",
      "顏曉雲 135\n",
      "彭曉雯 77\n",
      "葉健仁 117\n",
      "賴軒年 167\n",
      "韓致遠 52\n",
      "陳常芝 80\n",
      "黃佩樺 108\n",
      "林詩虹 178\n",
      "黃心卿 96\n",
      "郭奕全 101\n",
      "游子揚 127\n",
      "杜茜行 107\n",
      "李美一 64\n",
      "陳姿茜 77\n",
      "涂珮瑜 134\n",
      "夏明哲 111\n"
     ]
    },
    {
     "data": {
      "text/plain": [
       "'\\nline=\\'\\'\\nfout = open(\"Score.csv\",\"r\")\\nfor i in (len(name)):\\n    print()\\n'"
      ]
     },
     "execution_count": 110,
     "metadata": {},
     "output_type": "execute_result"
    }
   ],
   "source": [
    "fin_E = open('data/english_list.csv',\"r\",encoding='UTF-8')\n",
    "fin_M = open('data/math_list.csv',\"r\",encoding='UTF-8')\n",
    "lisE=[]\n",
    "lisM=[]\n",
    "name=[]\n",
    "for line in fin_E.readlines():\n",
    "    # print(line, end ='')\n",
    "    linelist = line.strip().split(\",\")\n",
    "    lisE.append(linelist[1])\n",
    "    name.append(linelist[0])\n",
    "    # ???\n",
    "    \n",
    "for line in fin_M.readlines():\n",
    "    linelist = line.strip().split(\",\")\n",
    "    lisM.append(linelist[1])    \n",
    "    # ???\n",
    "    \n",
    "score=[]\n",
    "fout = open(\"data/Score.csv\",\"w\")\n",
    "line=''\n",
    "for i in range(1,len(lisE)):\n",
    "    score.append(int(lisE[i])+int(lisM[i]))\n",
    "    list1 = [name[i],str(score[i-1]),\"\\n\"]\n",
    "    print(name[i],str(score[i-1]))\n",
    "    line = \",\".join(list1)\n",
    "    fout.write(line)\n",
    "fin_E.close()\n",
    "fin_M.close()\n",
    "fout.close()\n",
    "'''\n",
    "line=''\n",
    "fout = open(\"Score.csv\",\"r\")\n",
    "for i in (len(name)):\n",
    "    print()\n",
    "'''\n"
   ]
  },
  {
   "cell_type": "code",
   "execution_count": null,
   "metadata": {},
   "outputs": [],
   "source": []
  }
 ],
 "metadata": {
  "kernelspec": {
   "display_name": "Python 3 (ipykernel)",
   "language": "python",
   "name": "python3"
  },
  "language_info": {
   "codemirror_mode": {
    "name": "ipython",
    "version": 3
   },
   "file_extension": ".py",
   "mimetype": "text/x-python",
   "name": "python",
   "nbconvert_exporter": "python",
   "pygments_lexer": "ipython3",
   "version": "3.11.4"
  }
 },
 "nbformat": 4,
 "nbformat_minor": 4
}
